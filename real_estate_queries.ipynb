{
 "cells": [
  {
   "cell_type": "markdown",
   "id": "22b35c18",
   "metadata": {},
   "source": [
    "# Query By Days"
   ]
  },
  {
   "cell_type": "code",
   "execution_count": null,
   "id": "bb2e71c2",
   "metadata": {},
   "outputs": [],
   "source": [
    "from datetime import datetime, timedelta\n",
    "import requests\n",
    "import json\n",
    "\n",
    "def query_by_days(days):\n",
    "\n",
    "    end_date = datetime.now()\n",
    "    end_unix = int(end_date.timestamp())\n",
    "\n",
    "    # Parameters\n",
    "    start_date = end_date - timedelta(days=days)\n",
    "    start_unix = int(start_date.timestamp())\n",
    "\n",
    "    print(f\"Start date: {start_date}\")\n",
    "    print(f\"End date: {end_date}\\n\")\n",
    "\n",
    "    print(f\"Start Unix: {start_unix}\")\n",
    "    print(f\"End unix: {end_unix}\")\n",
    "\n",
    "    url = f\"https://gis.summitcountyco.gov/arcgis/rest/services/ParcelQueryTool/SummitMap1_Pro321/MapServer/12/query?where=&text=&objectIds=&time={start_unix}%2C+{end_unix}&timeRelation=esriTimeRelationOverlaps&geometry=&geometryType=esriGeometryEnvelope&inSR=&spatialRel=esriSpatialRelIntersects&distance=&units=esriSRUnit_Foot&relationParam=&outFields=PPI%2C+Schedule&returnGeometry=false&returnTrueCurves=false&maxAllowableOffset=&geometryPrecision=&outSR=&havingClause=&returnIdsOnly=false&returnCountOnly=false&orderByFields=&groupByFieldsForStatistics=&outStatistics=&returnZ=false&returnM=false&gdbVersion=&historicMoment=&returnDistinctValues=false&resultOffset=&resultRecordCount=&returnExtentOnly=false&sqlFormat=none&datumTransformation=&parameterValues=&rangeValues=&quantizationParameters=&featureEncoding=esriDefault&f=json\"\n",
    "\n",
    "    response = requests.get(url)\n",
    "    data = response.json()\n",
    "    print(json.dumps(data, indent=2))\n",
    "\n",
    "query_by_days(365)"
   ]
  },
  {
   "cell_type": "markdown",
   "id": "1a7054e4",
   "metadata": {},
   "source": [
    "# Query By Hours"
   ]
  },
  {
   "cell_type": "code",
   "execution_count": null,
   "id": "f453d4ce",
   "metadata": {},
   "outputs": [],
   "source": [
    "from datetime import datetime, timedelta\n",
    "import requests\n",
    "import json\n",
    "\n",
    "def query_by_hours(hours):\n",
    "\n",
    "    end_date = datetime.now()\n",
    "    end_unix = int(end_date.timestamp())\n",
    "\n",
    "    # Parameters\n",
    "    start_date = end_date - timedelta(hours=hours)\n",
    "    start_unix = int(start_date.timestamp())\n",
    "\n",
    "    print(f\"Start date: {start_date}\")\n",
    "    print(f\"End date: {end_date}\\n\")\n",
    "\n",
    "    print(f\"Start Unix: {start_unix}\")\n",
    "    print(f\"End unix: {end_unix}\")\n",
    "\n",
    "    url = f\"https://gis.summitcountyco.gov/arcgis/rest/services/ParcelQueryTool/SummitMap1_Pro321/MapServer/12/query?where=&text=&objectIds=&time={start_unix}%2C+{end_unix}&timeRelation=esriTimeRelationOverlaps&geometry=&geometryType=esriGeometryEnvelope&inSR=&spatialRel=esriSpatialRelIntersects&distance=&units=esriSRUnit_Foot&relationParam=&outFields=PPI%2C+Schedule&returnGeometry=false&returnTrueCurves=false&maxAllowableOffset=&geometryPrecision=&outSR=&havingClause=&returnIdsOnly=false&returnCountOnly=false&orderByFields=&groupByFieldsForStatistics=&outStatistics=&returnZ=false&returnM=false&gdbVersion=&historicMoment=&returnDistinctValues=false&resultOffset=&resultRecordCount=&returnExtentOnly=false&sqlFormat=none&datumTransformation=&parameterValues=&rangeValues=&quantizationParameters=&featureEncoding=esriDefault&f=json\"\n",
    "\n",
    "    response = requests.get(url)\n",
    "    data = response.json()\n",
    "    print(json.dumps(data, indent=2))\n",
    "\n",
    "# Example: Query for the last 24 hours\n",
    "query_by_hours(24)"
   ]
  },
  {
   "cell_type": "markdown",
   "id": "de9f5003",
   "metadata": {},
   "source": [
    "# Query By Minutes"
   ]
  },
  {
   "cell_type": "code",
   "execution_count": null,
   "id": "cf87a406",
   "metadata": {},
   "outputs": [],
   "source": [
    "from datetime import datetime, timedelta\n",
    "import requests\n",
    "import json\n",
    "\n",
    "def query_by_minutes(minutes):\n",
    "\n",
    "    end_date = datetime.now()\n",
    "    end_unix = int(end_date.timestamp())\n",
    "\n",
    "    # Parameters\n",
    "    start_date = end_date - timedelta(minutes=minutes)\n",
    "    start_unix = int(start_date.timestamp())\n",
    "\n",
    "    print(f\"Start date: {start_date}\")\n",
    "    print(f\"End date: {end_date}\\n\")\n",
    "\n",
    "    print(f\"Start Unix: {start_unix}\")\n",
    "    print(f\"End unix: {end_unix}\")\n",
    "\n",
    "    url = f\"https://gis.summitcountyco.gov/arcgis/rest/services/ParcelQueryTool/SummitMap1_Pro321/MapServer/12/query?where=&text=&objectIds=&time={start_unix}%2C+{end_unix}&timeRelation=esriTimeRelationOverlaps&geometry=&geometryType=esriGeometryEnvelope&inSR=&spatialRel=esriSpatialRelIntersects&distance=&units=esriSRUnit_Foot&relationParam=&outFields=PPI%2C+Schedule&returnGeometry=false&returnTrueCurves=false&maxAllowableOffset=&geometryPrecision=&outSR=&havingClause=&returnIdsOnly=false&returnCountOnly=false&orderByFields=&groupByFieldsForStatistics=&outStatistics=&returnZ=false&returnM=false&gdbVersion=&historicMoment=&returnDistinctValues=false&resultOffset=&resultRecordCount=&returnExtentOnly=false&sqlFormat=none&datumTransformation=&parameterValues=&rangeValues=&quantizationParameters=&featureEncoding=esriDefault&f=json\"\n",
    "\n",
    "    response = requests.get(url)\n",
    "    data = response.json()\n",
    "    print(json.dumps(data, indent=2))\n",
    "\n",
    "# Example: Query for the last 60 minutes instead of 365 days\n",
    "query_by_minutes(60)"
   ]
  }
 ],
 "metadata": {
  "language_info": {
   "name": "python"
  }
 },
 "nbformat": 4,
 "nbformat_minor": 5
}
